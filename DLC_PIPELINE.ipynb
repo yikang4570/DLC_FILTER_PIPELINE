{
 "cells": [
  {
   "cell_type": "markdown",
   "id": "4b537473-7762-4058-99b1-6bb4ff96e955",
   "metadata": {},
   "source": [
    "# DLC_PIPELINE"
   ]
  },
  {
   "cell_type": "markdown",
   "id": "e94883ed-cad3-4d5a-9fcf-75eaf2bd4d8b",
   "metadata": {},
   "source": [
    "This notebook interfaces with the Lake Lab DLC_FILTER_PIPELINE for testing purposes. It reads in a list of videos, and lets the user apply a preconfigured DLC pipeline to it along with custom filtering, Created 03/24/25"
   ]
  },
  {
   "cell_type": "code",
   "execution_count": null,
   "id": "c0219865f38dc352",
   "metadata": {
    "ExecuteTime": {
     "end_time": "2025-08-07T12:55:32.448532Z",
     "start_time": "2025-08-07T12:53:01.698372Z"
    }
   },
   "outputs": [],
   "source": [
    "# IMPORT NECESSARY PACKAGES\n",
    "import dlcfilterpipeline as dlp\n",
    "import file_list_creator\n",
    "\n",
    "# PASS INPUTS INTO FUNCTION, CAN LOOK AT __init__.py FOR EXAMPLE KWARGS\n",
    "inputs = {\n",
    "    'defaultdir':\"/Users/paveyboys/Desktop/EXAMPLE/\",\n",
    "    'model_name':'DLC_Resnet50_mouse_trackingMay19shuffle1_snapshot_130',\n",
    "    'dlc_venv_path': \"C:/ProgramData/anaconda3/envs/DEEPLABCUT/python\"}#\"/opt/anaconda3/envs/DEEPLABCUT/bin/python\"} # EDIT TO INCLUDE PATH TO PYTHON IN YOUR DEEPLABCUT ENVIRONMENT\n",
    "\n",
    "# SELECT FILES TO PROCESS\n",
    "file_list_creator.select_files_and_save_paths()\n",
    "with open('file_list.txt', 'r') as file:\n",
    "    video_list = [line.strip() for line in file]\n",
    "\n",
    "# RUN PIPELINE FOR EACH VIDEO IN THE LIST\n",
    "for video in video_list:\n",
    "    pipe = dlp.manager(video,**inputs)\n",
    "    pipe.batch_process()"
   ]
  }
 ],
 "metadata": {
  "kernelspec": {
   "display_name": "DLCPIPE",
   "language": "python",
   "name": "python3"
  },
  "language_info": {
   "codemirror_mode": {
    "name": "ipython",
    "version": 3
   },
   "file_extension": ".py",
   "mimetype": "text/x-python",
   "name": "python",
   "nbconvert_exporter": "python",
   "pygments_lexer": "ipython3",
   "version": "3.12.11"
  }
 },
 "nbformat": 4,
 "nbformat_minor": 5
}
